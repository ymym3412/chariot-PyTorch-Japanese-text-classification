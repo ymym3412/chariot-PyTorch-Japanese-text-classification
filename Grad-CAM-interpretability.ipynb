{
 "cells": [
  {
   "cell_type": "code",
   "execution_count": 1,
   "metadata": {},
   "outputs": [],
   "source": [
    "import os\n",
    "from pathlib import Path\n",
    "\n",
    "\n",
    "titles, articles, labels = [], [], []\n",
    "news_list = ['dokujo-tsushin', 'it-life-hack', 'kaden-channel', 'livedoor-homme', 'movie-enter', 'peachy', 'smax', 'sports-watch', 'topic-news']\n",
    "for i, media in enumerate(news_list):\n",
    "    files = os.listdir(Path('text', media))\n",
    "    for file_name in files:\n",
    "        if file_name == 'LICENSE.txt':\n",
    "            continue\n",
    "        with Path('text', media, file_name).open(encoding='utf-8') as f:\n",
    "            lines = [line for line in f]\n",
    "            title = lines[2].replace('\\n', '')\n",
    "            text = ''.join(lines[3:])\n",
    "            titles.append(title)\n",
    "            articles.append(text.replace('\\n', ''))\n",
    "            labels.append(i)"
   ]
  },
  {
   "cell_type": "code",
   "execution_count": 2,
   "metadata": {},
   "outputs": [],
   "source": [
    "import pandas as pd\n",
    "df = pd.DataFrame({'title': titles, 'article': articles, 'label': labels})\n",
    "from sklearn.model_selection import train_test_split\n",
    "\n",
    "train_X, test_X, train_y, test_y = train_test_split(df[['article', 'title']], df['label'], stratify=df['label'], test_size=0.15, random_state=0)\n",
    "train_X, val_X, train_y, val_y = train_test_split(train_X[['article', 'title']], train_y, stratify=train_y, test_size=0.177, random_state=0)"
   ]
  },
  {
   "cell_type": "code",
   "execution_count": 4,
   "metadata": {},
   "outputs": [],
   "source": [
    "train_df = train_X\n",
    "train_df['label'] = train_y\n",
    "\n",
    "val_df = val_X\n",
    "val_df['label'] = val_y\n",
    "\n",
    "test_df = test_X\n",
    "test_df['label'] = test_y"
   ]
  },
  {
   "cell_type": "code",
   "execution_count": 5,
   "metadata": {},
   "outputs": [],
   "source": [
    "from chariot.transformer.text.base import TextFilter\n",
    "import re\n",
    "\n",
    "\n",
    "class RegularExpressionReplacer(TextFilter):\n",
    "\n",
    "    def __init__(self, pattern, replacement, copy=True):\n",
    "        super().__init__(copy)\n",
    "        self.pattern = pattern\n",
    "        self.replacement = replacement\n",
    "\n",
    "    def apply(self, text):\n",
    "        return re.sub(self.pattern, self.replacement, text)"
   ]
  },
  {
   "cell_type": "code",
   "execution_count": 43,
   "metadata": {},
   "outputs": [
    {
     "data": {
      "text/plain": [
       "<chariot.dataset_preprocessor.ProcessBuilder at 0x1e6a9fbfbe0>"
      ]
     },
     "execution_count": 43,
     "metadata": {},
     "output_type": "execute_result"
    }
   ],
   "source": [
    "from chariot.dataset_preprocessor import DatasetPreprocessor\n",
    "from chariot.transformer.formatter import Padding\n",
    "import chariot.transformer as ct\n",
    "\n",
    "\n",
    "pad_length = 300\n",
    "\n",
    "dp = DatasetPreprocessor()\n",
    "dp.process('article')\\\n",
    "    .by(ct.text.UnicodeNormalizer())\\\n",
    "    .by(ct.text.LowerNormalizer())\\\n",
    "    .by(RegularExpressionReplacer(pattern=' |　', replacement=''))\\\n",
    "    .by(RegularExpressionReplacer(pattern='■.+?\\n', replacement=''))\\\n",
    "    .by(ct.text.SymbolFilter())\\\n",
    "    .by(ct.Tokenizer('ja'))\\\n",
    "    .by(ct.token.StopwordFilter('ja'))\\\n",
    "    .by(ct.Vocabulary(min_df=3, max_df=200.0))\\\n",
    "    .by(Padding(length=pad_length))\\\n",
    "    .fit(train_df['article'])"
   ]
  },
  {
   "cell_type": "code",
   "execution_count": 44,
   "metadata": {},
   "outputs": [
    {
     "data": {
      "text/plain": [
       "<chariot.dataset_preprocessor.ProcessBuilder at 0x1e6b3c66d68>"
      ]
     },
     "execution_count": 44,
     "metadata": {},
     "output_type": "execute_result"
    }
   ],
   "source": [
    "dp.process('label')\\\n",
    "    .by(ct.formatter.CategoricalLabel(num_class=9))"
   ]
  },
  {
   "cell_type": "code",
   "execution_count": 45,
   "metadata": {},
   "outputs": [
    {
     "name": "stdout",
     "output_type": "stream",
     "text": [
      "601.7390420436859\n"
     ]
    }
   ],
   "source": [
    "import time\n",
    "\n",
    "\n",
    "start = time.time()\n",
    "preprocessed = dp(train_df).preprocess().format().processed\n",
    "end = time.time()\n",
    "print(end-start)"
   ]
  },
  {
   "cell_type": "code",
   "execution_count": 46,
   "metadata": {},
   "outputs": [],
   "source": [
    "val_preprocessed = dp(val_df).preprocess().format().processed"
   ]
  },
  {
   "cell_type": "code",
   "execution_count": 13,
   "metadata": {},
   "outputs": [],
   "source": [
    "from chariot.storage import Storage\n",
    "import os\n",
    "import sys\n",
    "from pathlib import Path\n",
    "\n",
    "\n",
    "def set_path():\n",
    "    if \"../\" not in sys.path:\n",
    "        sys.path.append(\"../\")\n",
    "    root_dir = Path.cwd()\n",
    "    return root_dir\n",
    "\n",
    "ROOT_DIR = set_path()\n",
    "\n",
    "storage = Storage.setup_data_dir(ROOT_DIR)"
   ]
  },
  {
   "cell_type": "code",
   "execution_count": null,
   "metadata": {
    "collapsed": true
   },
   "outputs": [],
   "source": [
    "_ = storage.chakin(name='fastText(ja)')"
   ]
  },
  {
   "cell_type": "code",
   "execution_count": 47,
   "metadata": {},
   "outputs": [],
   "source": [
    "embedding = dp.process('article').preprocessor.vocabulary.make_embedding(storage.data_path('external/fasttext(ja).vec'))"
   ]
  },
  {
   "cell_type": "code",
   "execution_count": 49,
   "metadata": {},
   "outputs": [],
   "source": [
    "import torch\n",
    "import torch.nn as nn\n",
    "import torch.nn.functional as F\n",
    "\n",
    "class  CNN_Text(nn.Module):\n",
    "    \n",
    "    def __init__(self, pretrained_wv, output_dim, kernel_num, kernel_sizes=[3,4,5], dropout=0.5, static=False):\n",
    "        super(CNN_Text,self).__init__()\n",
    "        \n",
    "        weight = torch.from_numpy(pretrained_wv)\n",
    "        self.embed = nn.Embedding.from_pretrained(weight, freeze=False)\n",
    "        self.convs1 = nn.ModuleList([nn.Conv2d(1, kernel_num, (k, self.embed.weight.shape[1])) for k in kernel_sizes])\n",
    "        self.bns1 = nn.ModuleList([nn.BatchNorm2d(kernel_num) for _ in kernel_sizes])\n",
    "        self.dropout = nn.Dropout(dropout)\n",
    "        self.fc1 = nn.Linear(len(kernel_sizes)*kernel_num, output_dim)\n",
    "        self.static = static\n",
    "\n",
    "    def conv_and_pool(self, x, conv):\n",
    "        x = F.relu(conv(x)).squeeze(3) #(N,Co,W)\n",
    "        x = F.max_pool1d(x, x.size(2)).squeeze(2)\n",
    "        return x\n",
    "\n",
    "\n",
    "    def forward(self, x):\n",
    "        x = self.embed(x) # (N,W,D)\n",
    "        \n",
    "        if self.static:\n",
    "            x = x.detach()\n",
    "\n",
    "        x = x.unsqueeze(1) # (N,Ci,W,D)\n",
    "        x = x.float()\n",
    "        x = [F.relu(bn(conv(x))).squeeze(3) for conv, bn in zip(self.convs1, self.bns1)] #[(N,Co,W), ...]*len(Ks)\n",
    "\n",
    "        x = [F.max_pool1d(i, i.size(2)).squeeze(2) for i in x] #[(N,Co), ...]*len(Ks)\n",
    "\n",
    "        x = torch.cat(x, 1)\n",
    "        x = self.dropout(x) # (N,len(Ks)*Co)\n",
    "        logit = self.fc1(x) # (N,C)\n",
    "        return logit"
   ]
  },
  {
   "cell_type": "code",
   "execution_count": 54,
   "metadata": {},
   "outputs": [],
   "source": [
    "from sklearn.metrics import accuracy_score\n",
    "\n",
    "def calc_accuray(model, target_preprocessed, writer, ite, mode, use_cuda):\n",
    "    model.eval()\n",
    "    feature = torch.LongTensor(target_preprocessed['article'])\n",
    "    if use_cuda:\n",
    "        feature = feature.cuda()\n",
    "    forward = model(feature)\n",
    "    predicted_label = forward.argmax(dim=1).cpu()\n",
    "    test_target = torch.LongTensor(np.argmax(target_preprocessed['label'], axis=1))\n",
    "    accuracy = accuracy_score(test_target.numpy(), predicted_label.numpy())\n",
    "    writer.add_scalar('data/{}_accuracy'.format(mode), accuracy, ite)\n",
    "    model.train()\n",
    "    return accuracy"
   ]
  },
  {
   "cell_type": "code",
   "execution_count": 60,
   "metadata": {},
   "outputs": [],
   "source": [
    "output_dim = 9\n",
    "kernel_num = 200\n",
    "kernel_sizes = [3,4,5,7]\n",
    "dropout = 0.5"
   ]
  },
  {
   "cell_type": "code",
   "execution_count": null,
   "metadata": {},
   "outputs": [],
   "source": []
  },
  {
   "cell_type": "code",
   "execution_count": 61,
   "metadata": {},
   "outputs": [],
   "source": [
    "from tensorboardX import SummaryWriter\n",
    "\n",
    "writer = SummaryWriter()"
   ]
  },
  {
   "cell_type": "code",
   "execution_count": 62,
   "metadata": {},
   "outputs": [],
   "source": [
    "model = CNN_Text(embedding, output_dim, kernel_num, kernel_sizes, dropout)"
   ]
  },
  {
   "cell_type": "code",
   "execution_count": 63,
   "metadata": {},
   "outputs": [
    {
     "name": "stderr",
     "output_type": "stream",
     "text": [
      "c:\\users\\user\\anaconda3\\envs\\chariot-pytorch\\lib\\site-packages\\ipykernel_launcher.py:23: UserWarning: Implicit dimension choice for log_softmax has been deprecated. Change the call to include dim=X as an argument.\n"
     ]
    }
   ],
   "source": [
    "import torch\n",
    "import numpy as np\n",
    "import adabound\n",
    "\n",
    "model = CNN_Text(embedding, output_dim, kernel_num, kernel_sizes, dropout)\n",
    "use_cuda = True\n",
    "opt = adabound.AdaBound(model.parameters(), lr=1e-3, final_lr=0.1, weight_decay=5e-4)\n",
    "# opt = adabound.AdaBound(model.parameters(), lr=1e-3, final_lr=0.1)\n",
    "model.train()\n",
    "if use_cuda:\n",
    "    model = model.cuda()\n",
    "    \n",
    "loss_list = []\n",
    "for ite, b in enumerate(dp.iterate(preprocessed, batch_size=64, epoch=400)):\n",
    "    feature = torch.LongTensor(b['article'])\n",
    "    target = torch.LongTensor(np.argmax(b['label'], axis=1))\n",
    "    if use_cuda:\n",
    "        feature = feature.cuda()\n",
    "        target = target.cuda()\n",
    "        \n",
    "    opt.zero_grad()\n",
    "    logit = model(feature)\n",
    "    loss = F.nll_loss(F.log_softmax(logit), target)\n",
    "    loss.backward()\n",
    "    opt.step()\n",
    "    # scheduler.step()\n",
    "    writer.add_scalar('data/training_loss', loss.item(), ite)\n",
    "    # print(loss.item())\n",
    "    loss_list.append(loss.item())\n",
    "    \n",
    "    # check training accuray\n",
    "    calc_accuray(model, b, writer, ite, 'training', use_cuda)\n",
    "    \n",
    "    # check validation accuracy\n",
    "    if ite % 100 == 0:\n",
    "        # calc training accuracy\n",
    "        calc_accuray(model, val_preprocessed, writer, ite, 'validation', use_cuda)\n",
    "\n",
    "writer.close()"
   ]
  },
  {
   "cell_type": "code",
   "execution_count": null,
   "metadata": {},
   "outputs": [],
   "source": []
  },
  {
   "cell_type": "code",
   "execution_count": 64,
   "metadata": {},
   "outputs": [
    {
     "name": "stderr",
     "output_type": "stream",
     "text": [
      "c:\\users\\user\\anaconda3\\envs\\chariot-pytorch\\lib\\site-packages\\ipykernel_launcher.py:23: UserWarning: Implicit dimension choice for log_softmax has been deprecated. Change the call to include dim=X as an argument.\n"
     ]
    }
   ],
   "source": [
    "lr = 0.01\n",
    "\n",
    "for i in range(10):\n",
    "    writer = SummaryWriter()\n",
    "    use_cuda = True\n",
    "    opt = torch.optim.SGD(model.parameters(), lr=lr)\n",
    "    # opt = adabound.AdaBound(model.parameters(), lr=1e-3, final_lr=0.1, weight_decay=5e-4)\n",
    "    # opt = adabound.AdaBound(model.parameters(), lr=1e-3, final_lr=0.1)\n",
    "    model.train()\n",
    "    if use_cuda:\n",
    "        model = model.cuda()\n",
    "\n",
    "    loss_list = []\n",
    "    for ite, b in enumerate(dp.iterate(preprocessed, batch_size=64, epoch=10)):\n",
    "        feature = torch.LongTensor(b['article'])\n",
    "        target = torch.LongTensor(np.argmax(b['label'], axis=1))\n",
    "        if use_cuda:\n",
    "            feature = feature.cuda()\n",
    "            target = target.cuda()\n",
    "\n",
    "        opt.zero_grad()\n",
    "        logit = model(feature)\n",
    "        loss = F.nll_loss(F.log_softmax(logit), target)\n",
    "        loss.backward()\n",
    "        opt.step()\n",
    "        # scheduler.step()\n",
    "        writer.add_scalar('data/training_loss', loss.item(), ite)\n",
    "        # print(loss.item())\n",
    "        loss_list.append(loss.item())\n",
    "\n",
    "        # check training accuray\n",
    "        calc_accuray(model, b, writer, ite, 'training', use_cuda)\n",
    "\n",
    "        # check validation accuracy\n",
    "        if ite % 100 == 0:\n",
    "            # calc training accuracy\n",
    "            calc_accuray(model, val_preprocessed, writer, ite, 'validation', use_cuda)\n",
    "\n",
    "    writer.close()\n",
    "    lr = lr / 5"
   ]
  },
  {
   "cell_type": "code",
   "execution_count": null,
   "metadata": {},
   "outputs": [],
   "source": []
  },
  {
   "cell_type": "markdown",
   "metadata": {},
   "source": [
    "# Optunaでのチューニング"
   ]
  },
  {
   "cell_type": "code",
   "execution_count": 58,
   "metadata": {},
   "outputs": [],
   "source": [
    "from tensorboardX import SummaryWriter\n",
    "\n",
    "def objective(trial):\n",
    "    kernel_num = trial.suggest_int('kernel_num', 80, 200)\n",
    "    dropout = trial.suggest_uniform('dropout', 0.0, 1.0)\n",
    "    kernel_sizes = [3, 4, 5, 7]\n",
    "    output_dim = 9\n",
    "    model = CNN_Text(embedding, output_dim, kernel_num, kernel_sizes, dropout)\n",
    "    use_cuda = True\n",
    "    opt = adabound.AdaBound(model.parameters(), lr=1e-3, final_lr=0.1, weight_decay=5e-4)\n",
    "    \n",
    "    writer = SummaryWriter()\n",
    "    model.train()\n",
    "    if use_cuda:\n",
    "        model = model.cuda()\n",
    "\n",
    "    for ite, b in enumerate(dp.iterate(preprocessed, batch_size=64, epoch=200)):\n",
    "        feature = torch.LongTensor(b['article'])\n",
    "        target = torch.LongTensor(np.argmax(b['label'], axis=1))\n",
    "        if use_cuda:\n",
    "            feature = feature.cuda()\n",
    "            target = target.cuda()\n",
    "\n",
    "        opt.zero_grad()\n",
    "        logit = model(feature)\n",
    "        loss = F.nll_loss(F.log_softmax(logit), target)\n",
    "        loss.backward()\n",
    "        opt.step()\n",
    "        # scheduler.step()\n",
    "        writer.add_scalar('data/training_loss', loss.item(), ite)\n",
    "\n",
    "        # check training accuray\n",
    "        calc_accuray(model, b, writer, ite, 'training', use_cuda)\n",
    "\n",
    "        # check validation accuracy\n",
    "        if ite % 100 == 0:\n",
    "            # calc training accuracy\n",
    "            calc_accuray(model, val_preprocessed, writer, ite, 'validation', use_cuda)\n",
    "\n",
    "    writer.close()\n",
    "    accuracy = calc_accuray(model, val_preprocessed, writer, ite, 'validation', use_cuda)\n",
    "    return 1.0-accuracy"
   ]
  },
  {
   "cell_type": "code",
   "execution_count": null,
   "metadata": {},
   "outputs": [],
   "source": [
    "import optuna\n",
    "\n",
    "study = optuna.create_study()\n",
    "study.optimize(objective, n_trials=70)"
   ]
  },
  {
   "cell_type": "code",
   "execution_count": null,
   "metadata": {},
   "outputs": [],
   "source": []
  },
  {
   "cell_type": "code",
   "execution_count": 65,
   "metadata": {},
   "outputs": [],
   "source": [
    "test_preprocessed = dp(test_df).preprocess().format().processed"
   ]
  },
  {
   "cell_type": "code",
   "execution_count": 66,
   "metadata": {},
   "outputs": [],
   "source": [
    "model.eval()\n",
    "feature = torch.LongTensor(test_preprocessed['article']).cuda()\n",
    "forward = model(feature)"
   ]
  },
  {
   "cell_type": "code",
   "execution_count": 127,
   "metadata": {},
   "outputs": [],
   "source": [
    "predicted_label = forward.argmax(dim=1).cpu()\n",
    "test_target_labels = torch.LongTensor(np.argmax(test_preprocessed['label'], axis=1))"
   ]
  },
  {
   "cell_type": "code",
   "execution_count": 128,
   "metadata": {},
   "outputs": [
    {
     "name": "stdout",
     "output_type": "stream",
     "text": [
      "              precision    recall  f1-score   support\n",
      "\n",
      "           0       0.88      0.82      0.85       131\n",
      "           1       0.75      0.91      0.82       131\n",
      "           2       0.81      0.74      0.77       130\n",
      "           3       0.74      0.62      0.68        77\n",
      "           4       0.94      0.91      0.92       130\n",
      "           5       0.75      0.90      0.82       126\n",
      "           6       0.99      0.84      0.91       131\n",
      "           7       0.93      0.93      0.93       135\n",
      "           8       0.84      0.88      0.86       115\n",
      "\n",
      "   micro avg       0.85      0.85      0.85      1106\n",
      "   macro avg       0.85      0.84      0.84      1106\n",
      "weighted avg       0.86      0.85      0.85      1106\n",
      "\n"
     ]
    }
   ],
   "source": [
    "from sklearn.metrics import classification_report\n",
    "\n",
    "print(classification_report(test_target_labels.numpy(), predicted_label.numpy()))"
   ]
  },
  {
   "cell_type": "code",
   "execution_count": 130,
   "metadata": {},
   "outputs": [
    {
     "name": "stdout",
     "output_type": "stream",
     "text": [
      "0.849005424954792\n"
     ]
    }
   ],
   "source": [
    "from sklearn.metrics import accuracy_score\n",
    "\n",
    "print(accuracy_score(test_target_labels.numpy(), predicted_label.numpy()))"
   ]
  },
  {
   "cell_type": "code",
   "execution_count": 132,
   "metadata": {},
   "outputs": [],
   "source": [
    "correct_data, diff_data = [], []\n",
    "for i, (p, t) in enumerate(zip(predicted_label.numpy(), test_target_labels.numpy())):\n",
    "    if p == t:\n",
    "        correct_data.append(i)\n",
    "    else:\n",
    "        diff_data.append(i)"
   ]
  },
  {
   "cell_type": "markdown",
   "metadata": {},
   "source": [
    "# GradCamによるモデルの可視化"
   ]
  },
  {
   "cell_type": "code",
   "execution_count": 70,
   "metadata": {},
   "outputs": [],
   "source": [
    "# こちらのコードをお借りした\n",
    "# https://tech.jxpress.net/entry/2018/12/12/130057\n",
    "class GradCAM:\n",
    "    def __init__(self, model, feature_layer):\n",
    "        self.model = model\n",
    "        self.feature_layer = feature_layer\n",
    "        self.model.eval()\n",
    "        self.feature_grad = None\n",
    "        self.feature_map = None\n",
    "        self.hooks = []\n",
    "\n",
    "        def save_feature_grad(module, in_grad, out_grad):\n",
    "            self.feature_grad = out_grad[0]\n",
    "        self.hooks.append(self.feature_layer.register_backward_hook(save_feature_grad))\n",
    "\n",
    "        def save_feature_map(module, inp, outp):\n",
    "            self.feature_map = outp[0]\n",
    "        self.hooks.append(self.feature_layer.register_forward_hook(save_feature_map))\n",
    "\n",
    "    def forward(self, x):\n",
    "        return self.model(x)\n",
    "\n",
    "    def backward_on_target(self, output, target):\n",
    "        self.model.zero_grad()\n",
    "        one_hot_output = torch.zeros([1, output.size()[-1]]).cuda()\n",
    "        one_hot_output[0][target] = 1\n",
    "        output.backward(gradient=one_hot_output, retain_graph=True)\n",
    "\n",
    "    def clear_hook(self):\n",
    "        for hook in self.hooks:\n",
    "            hook.remove()"
   ]
  },
  {
   "cell_type": "markdown",
   "metadata": {},
   "source": [
    "# 予測が正しい場合のモデルの解釈"
   ]
  },
  {
   "cell_type": "code",
   "execution_count": 215,
   "metadata": {},
   "outputs": [
    {
     "name": "stdout",
     "output_type": "stream",
     "text": [
      "Predict label: 4\n",
      "True label: 4\n"
     ]
    }
   ],
   "source": [
    "news_id = 20\n",
    "grad_cam = GradCAM(model=model, feature_layer=model.convs1[3])\n",
    "test_input = test_preprocessed['article'][news_id:news_id+1]\n",
    "test_tensor = torch.LongTensor(test_input).cuda()\n",
    "test_target = torch.LongTensor(np.argmax(test_preprocessed['label'][news_id:news_id+1], axis=1))\n",
    "model_output = grad_cam.forward(test_tensor)\n",
    "predicted_label = model_output.argmax().item()\n",
    "print('Predict label: {}'.format(predicted_label))\n",
    "print('True label: {}'.format(test_target.item()))"
   ]
  },
  {
   "cell_type": "code",
   "execution_count": 216,
   "metadata": {},
   "outputs": [],
   "source": [
    "grad_cam.backward_on_target(model_output, predicted_label)"
   ]
  },
  {
   "cell_type": "code",
   "execution_count": 217,
   "metadata": {},
   "outputs": [],
   "source": [
    "import numpy as np\n",
    "feature_grad = grad_cam.feature_grad.cpu().data.numpy()[0]\n",
    "weights = np.mean(feature_grad, axis=(1, 2))\n",
    "feature_map = grad_cam.feature_map.cpu().data.numpy()\n",
    "grad_cam.clear_hook()"
   ]
  },
  {
   "cell_type": "code",
   "execution_count": 218,
   "metadata": {},
   "outputs": [],
   "source": [
    "cam = np.sum((weights * feature_map.T), axis=2).T\n",
    "cam = np.maximum(cam, 0)"
   ]
  },
  {
   "cell_type": "code",
   "execution_count": 219,
   "metadata": {},
   "outputs": [],
   "source": [
    "cam7 = cam"
   ]
  },
  {
   "cell_type": "code",
   "execution_count": 220,
   "metadata": {},
   "outputs": [
    {
     "data": {
      "text/plain": [
       "<matplotlib.axes._subplots.AxesSubplot at 0x1e6fc5f0208>"
      ]
     },
     "execution_count": 220,
     "metadata": {},
     "output_type": "execute_result"
    },
    {
     "data": {
      "image/png": "[encoded data removed]",
      "text/plain": [
       "<Figure size 432x288 with 2 Axes>"
      ]
     },
     "metadata": {
      "needs_background": "light"
     },
     "output_type": "display_data"
    }
   ],
   "source": [
    "import seaborn as sns\n",
    "%matplotlib inline\n",
    "sns.heatmap(cam)"
   ]
  },
  {
   "cell_type": "code",
   "execution_count": 143,
   "metadata": {},
   "outputs": [],
   "source": [
    "inv = dp.process('article').preprocessor.vocabulary.inverse(test_preprocessed['article'][news_id])"
   ]
  },
  {
   "cell_type": "code",
   "execution_count": 144,
   "metadata": {},
   "outputs": [],
   "source": [
    "trigrams = [''.join(inv[i:i+3]) for i in range(len(inv))]"
   ]
  },
  {
   "cell_type": "code",
   "execution_count": 145,
   "metadata": {},
   "outputs": [
    {
     "data": {
      "text/plain": [
       "['@@UNKNOWN@@の衝撃',\n",
       " 'の衝撃を',\n",
       " '衝撃を呼ぶ',\n",
       " 'を呼ぶ3',\n",
       " '呼ぶ3d',\n",
       " '3dエピック',\n",
       " 'dエピック・',\n",
       " 'エピック・ミステリー',\n",
       " '・ミステリー巨編',\n",
       " 'ミステリー巨編が',\n",
       " '巨編が日本',\n",
       " 'が日本上陸',\n",
       " '日本上陸@@UNKNOWN@@',\n",
       " '上陸@@UNKNOWN@@『',\n",
       " '@@UNKNOWN@@『エイリアン',\n",
       " '『エイリアン』',\n",
       " 'エイリアン』『',\n",
       " '』『グラディエーター',\n",
       " '『グラディエーター』',\n",
       " 'グラディエーター』の',\n",
       " '』の巨匠',\n",
       " 'の巨匠リドリー・スコット',\n",
       " '巨匠リドリー・スコット監督',\n",
       " 'リドリー・スコット監督の',\n",
       " '監督の最新',\n",
       " 'の最新『',\n",
       " '最新『プロメテウス',\n",
       " '『プロメテウス』',\n",
       " 'プロメテウス』@@UNKNOWN@@',\n",
       " '』@@UNKNOWN@@8',\n",
       " '@@UNKNOWN@@824',\n",
       " '824公開',\n",
       " '24公開@@UNKNOWN@@',\n",
       " '公開@@UNKNOWN@@が',\n",
       " '@@UNKNOWN@@が謎',\n",
       " 'が謎だらけ',\n",
       " '謎だらけの',\n",
       " 'だらけのキャンペーン',\n",
       " 'のキャンペーンを',\n",
       " 'キャンペーンを開始',\n",
       " 'を開始する',\n",
       " '開始する。',\n",
       " 'する。さらに',\n",
       " '。さらに、',\n",
       " 'さらに、日本',\n",
       " '、日本版',\n",
       " '日本版ポスター',\n",
       " '版ポスター2',\n",
       " 'ポスター2弾',\n",
       " '2弾が',\n",
       " '弾が公開',\n",
       " 'が公開さ',\n",
       " '公開され',\n",
       " 'された',\n",
       " 'れた。',\n",
       " 'た。本',\n",
       " '。本は',\n",
       " '本は、',\n",
       " 'は、人類',\n",
       " '、人類史上',\n",
       " '人類史上最大',\n",
       " '史上最大の',\n",
       " '最大の謎',\n",
       " 'の謎“',\n",
       " '謎“人類',\n",
       " '“人類の',\n",
       " '人類の起源',\n",
       " 'の起源”',\n",
       " '起源”を',\n",
       " '”を解き明かす',\n",
       " 'を解き明かす重大',\n",
       " '解き明かす重大な',\n",
       " '重大なヒント',\n",
       " 'なヒントを',\n",
       " 'ヒントを地球',\n",
       " 'を地球の',\n",
       " '地球の古代',\n",
       " 'の古代遺跡',\n",
       " '古代遺跡で',\n",
       " '遺跡で発見',\n",
       " 'で発見し',\n",
       " '発見し、',\n",
       " 'し、宇宙船',\n",
       " '、宇宙船プロメテウス',\n",
       " '宇宙船プロメテウス号',\n",
       " 'プロメテウス号に',\n",
       " '号に乗っ',\n",
       " 'に乗って',\n",
       " '乗って未知',\n",
       " 'て未知の',\n",
       " '未知の惑星',\n",
       " 'の惑星を',\n",
       " '惑星を訪れ',\n",
       " 'を訪れた',\n",
       " '訪れた科学',\n",
       " 'た科学チーム',\n",
       " '科学チームの',\n",
       " 'チームの、',\n",
       " 'の、想像',\n",
       " '、想像を',\n",
       " '想像を絶する',\n",
       " 'を絶する運命',\n",
       " '絶する運命を',\n",
       " '運命を映し出す',\n",
       " 'を映し出す物語',\n",
       " '映し出す物語。',\n",
       " '物語。めくるめく',\n",
       " '。めくるめく神秘',\n",
       " 'めくるめく神秘と',\n",
       " '神秘と衝撃',\n",
       " 'と衝撃に',\n",
       " '衝撃に彩ら',\n",
       " 'に彩られ',\n",
       " '彩られた',\n",
       " 'れた探査',\n",
       " 'た探査航海',\n",
       " '探査航海の',\n",
       " '航海の果て',\n",
       " 'の果てに',\n",
       " '果てに、',\n",
       " 'に、決して',\n",
       " '、決して触れ',\n",
       " '決して触れて',\n",
       " '触れては',\n",
       " 'てはなら',\n",
       " 'はならない',\n",
       " 'ならない“',\n",
       " 'ない“パンドラ',\n",
       " '“パンドラの',\n",
       " 'パンドラの箱',\n",
       " 'の箱”',\n",
       " '箱”が',\n",
       " '”が開い',\n",
       " 'が開いた',\n",
       " '開いた、',\n",
       " 'た、まだ',\n",
       " '、まだも',\n",
       " 'まだも知ら',\n",
       " 'も知らない',\n",
       " '知らない人類',\n",
       " 'ない人類は',\n",
       " '人類はを',\n",
       " 'はを目撃',\n",
       " 'を目撃する',\n",
       " '目撃する。',\n",
       " 'する。前人',\n",
       " '。前人未踏',\n",
       " '前人未踏の',\n",
       " '未踏の宇宙',\n",
       " 'の宇宙の',\n",
       " '宇宙の彼方',\n",
       " 'の彼方に',\n",
       " '彼方に、',\n",
       " 'に、地球',\n",
       " '、地球の',\n",
       " '地球のあらゆる',\n",
       " 'のあらゆる歴史',\n",
       " 'あらゆる歴史や',\n",
       " '歴史や文明',\n",
       " 'や文明の',\n",
       " '文明の概念',\n",
       " 'の概念さえ',\n",
       " '概念さえも',\n",
       " 'さえも覆す',\n",
       " 'も覆す、',\n",
       " '覆す、驚愕',\n",
       " '、驚愕の',\n",
       " '驚愕の真実',\n",
       " 'の真実が',\n",
       " '真実が眠っ',\n",
       " 'が眠って',\n",
       " '眠ってい',\n",
       " 'ていた',\n",
       " 'いたを',\n",
       " 'たを——。',\n",
       " 'を——。6',\n",
       " '——。623',\n",
       " '623より',\n",
       " '23よりスタート',\n",
       " 'よりスタートする',\n",
       " 'スタートするキャンペーン',\n",
       " 'するキャンペーンは',\n",
       " 'キャンペーンは、',\n",
       " 'は、7',\n",
       " '、7組',\n",
       " '7組14',\n",
       " '組14に',\n",
       " '14に世界',\n",
       " 'に世界の',\n",
       " '世界の@@UNKNOWN@@',\n",
       " 'の@@UNKNOWN@@スポット',\n",
       " '@@UNKNOWN@@スポットへ',\n",
       " 'スポットへの',\n",
       " 'への旅',\n",
       " 'の旅が',\n",
       " '旅が当たる',\n",
       " 'が当たるという',\n",
       " '当たるという。',\n",
       " 'という。詳しく',\n",
       " '。詳しくは',\n",
       " '詳しくは、',\n",
       " 'は、キャンペーン',\n",
       " '、キャンペーンサイト',\n",
       " 'キャンペーンサイトを',\n",
       " 'サイトをチェック',\n",
       " 'をチェックしよ',\n",
       " 'チェックしよう',\n",
       " 'しよう。',\n",
       " 'う。また',\n",
       " '。また、',\n",
       " 'また、劇場',\n",
       " '、劇場で',\n",
       " '劇場では',\n",
       " 'では本',\n",
       " 'は本の',\n",
       " '本の予告',\n",
       " 'の予告映像',\n",
       " '予告映像の',\n",
       " '映像の最後',\n",
       " 'の最後に',\n",
       " '最後に“',\n",
       " 'に“人類',\n",
       " '“人類の',\n",
       " '人類の起源',\n",
       " 'の起源”',\n",
       " '起源”にまつわる',\n",
       " '”にまつわる“',\n",
       " 'にまつわる“謎',\n",
       " '“謎”',\n",
       " '謎”に',\n",
       " '”に満ち',\n",
       " 'に満ちた',\n",
       " '満ちた3',\n",
       " 'た3種類',\n",
       " '3種類の',\n",
       " '種類の映像',\n",
       " 'の映像を',\n",
       " '映像を順次',\n",
       " 'を順次上映',\n",
       " '順次上映する',\n",
       " '上映する。',\n",
       " 'する。どの',\n",
       " '。どの映像',\n",
       " 'どの映像が',\n",
       " '映像が上映',\n",
       " 'が上映さ',\n",
       " '上映される',\n",
       " 'されるか',\n",
       " 'れるかは',\n",
       " 'かはて',\n",
       " 'はての',\n",
       " 'てのお',\n",
       " 'のお楽しみ',\n",
       " 'お楽しみだ',\n",
       " '楽しみだ。',\n",
       " 'だ。さらに',\n",
       " '。さらに、',\n",
       " 'さらに、7',\n",
       " '、720',\n",
       " '720の',\n",
       " '20の夜',\n",
       " 'の夜、',\n",
       " '夜、限り',\n",
       " '、限りで',\n",
       " '限りで本',\n",
       " 'で本選りすぐり',\n",
       " '本選りすぐりの',\n",
       " '選りすぐりの約',\n",
       " 'の約13',\n",
       " '約13分間',\n",
       " '13分間の',\n",
       " '分間の3',\n",
       " 'の3d',\n",
       " '3d映像',\n",
       " 'd映像が',\n",
       " '映像が上映',\n",
       " 'が上映さ',\n",
       " '上映される',\n",
       " 'される。',\n",
       " 'れる。当日',\n",
       " '。当日上映',\n",
       " '当日上映さ',\n",
       " '上映される',\n",
       " 'される3',\n",
       " 'れる3d',\n",
       " '3d作品',\n",
       " 'd作品の',\n",
       " '作品の最終',\n",
       " 'の最終の',\n",
       " '最終の予告編',\n",
       " 'の予告編の',\n",
       " '予告編のに',\n",
       " 'のに衝撃',\n",
       " 'に衝撃な',\n",
       " '衝撃な映像',\n",
       " 'な映像を',\n",
       " '映像を観る',\n",
       " 'を観るが',\n",
       " '観るが',\n",
       " 'が']"
      ]
     },
     "execution_count": 145,
     "metadata": {},
     "output_type": "execute_result"
    }
   ],
   "source": [
    "trigrams"
   ]
  },
  {
   "cell_type": "code",
   "execution_count": 146,
   "metadata": {},
   "outputs": [],
   "source": [
    "inv = dp.process('article').preprocessor.vocabulary.inverse(test_preprocessed['article'][news_id])\n",
    "trigrams = [''.join(inv[i:i+3]) for i in range(len(inv))]\n",
    "\n",
    "l = np.array([e[0]for e in cam])\n",
    "\n",
    "K = 20\n",
    "raw_topk_indices = np.argpartition(-l, K)[:K]\n",
    "topk_values = l[raw_topk_indices]\n",
    "indices = np.argsort(-topk_values)\n",
    "\n",
    "topk_indices = raw_topk_indices[indices]"
   ]
  },
  {
   "cell_type": "code",
   "execution_count": 147,
   "metadata": {},
   "outputs": [
    {
     "name": "stdout",
     "output_type": "stream",
     "text": [
      "『プロメテウス』\n",
      "『グラディエーター』\n",
      "『エイリアン』\n",
      "824公開\n",
      "弾が公開\n",
      "また、劇場\n",
      "』『グラディエーター\n",
      "3d作品\n",
      "エイリアン』『\n",
      "』の巨匠\n",
      "d作品の\n",
      "。当日上映\n",
      "を順次上映\n",
      "の最新『\n",
      "最新『プロメテウス\n",
      "映像が上映\n",
      "映像が上映\n",
      "・ミステリー巨編\n",
      "dエピック・\n",
      "作品の最終\n"
     ]
    }
   ],
   "source": [
    "for idx in topk_indices:\n",
    "    print(trigrams[idx])"
   ]
  },
  {
   "cell_type": "code",
   "execution_count": 347,
   "metadata": {},
   "outputs": [
    {
     "data": {
      "text/plain": [
       "tensor([[  5.9591, -15.4322, -12.2182,   2.7349,   3.5685,   5.1419, -19.0625,\n",
       "          -1.7443,   0.2661]], device='cuda:0', grad_fn=<AddmmBackward>)"
      ]
     },
     "execution_count": 347,
     "metadata": {},
     "output_type": "execute_result"
    }
   ],
   "source": [
    "model_output"
   ]
  },
  {
   "cell_type": "markdown",
   "metadata": {},
   "source": [
    "# 3, 4, 5, 7-gramのスコアを使った判断根拠のヒートマップ"
   ]
  },
  {
   "cell_type": "code",
   "execution_count": 234,
   "metadata": {},
   "outputs": [],
   "source": [
    "gradients = np.zeros(len(inv))"
   ]
  },
  {
   "cell_type": "code",
   "execution_count": 235,
   "metadata": {},
   "outputs": [],
   "source": [
    "for i, v in enumerate(cam3):\n",
    "    gradients[i: i+3] += v\n",
    "    \n",
    "for i, v in enumerate(cam4):\n",
    "    gradients[i: i+4] += v\n",
    "    \n",
    "for i, v in enumerate(cam5):\n",
    "    gradients[i: i+5] += v\n",
    "    \n",
    "for i, v in enumerate(cam7):\n",
    "    gradients[i: i+7] += v\n",
    "    \n",
    "gradients = gradients / 4.0"
   ]
  },
  {
   "cell_type": "code",
   "execution_count": 240,
   "metadata": {},
   "outputs": [
    {
     "data": {
      "text/plain": [
       "<matplotlib.axes._subplots.AxesSubplot at 0x1e6f7d7abe0>"
      ]
     },
     "execution_count": 240,
     "metadata": {},
     "output_type": "execute_result"
    },
    {
     "data": {
      "image/png": "[encoded data removed]",
      "text/plain": [
       "<Figure size 432x288 with 2 Axes>"
      ]
     },
     "metadata": {
      "needs_background": "light"
     },
     "output_type": "display_data"
    }
   ],
   "source": [
    "sns.heatmap(gradients.reshape(300, 1))"
   ]
  },
  {
   "cell_type": "markdown",
   "metadata": {},
   "source": [
    "# 予測が失敗した場合のモデルの解釈"
   ]
  },
  {
   "cell_type": "code",
   "execution_count": 148,
   "metadata": {},
   "outputs": [
    {
     "data": {
      "text/plain": [
       "[8,\n",
       " 10,\n",
       " 15,\n",
       " 16,\n",
       " 27,\n",
       " 33,\n",
       " 48,\n",
       " 54,\n",
       " 58,\n",
       " 64,\n",
       " 69,\n",
       " 79,\n",
       " 81,\n",
       " 83,\n",
       " 86,\n",
       " 105,\n",
       " 107,\n",
       " 109,\n",
       " 117,\n",
       " 119,\n",
       " 127,\n",
       " 128,\n",
       " 132,\n",
       " 160,\n",
       " 161,\n",
       " 170,\n",
       " 174,\n",
       " 182,\n",
       " 183,\n",
       " 186,\n",
       " 188,\n",
       " 192,\n",
       " 203,\n",
       " 229,\n",
       " 230,\n",
       " 236,\n",
       " 245,\n",
       " 247,\n",
       " 248,\n",
       " 253,\n",
       " 267,\n",
       " 280,\n",
       " 281,\n",
       " 302,\n",
       " 322,\n",
       " 326,\n",
       " 332,\n",
       " 335,\n",
       " 337,\n",
       " 342,\n",
       " 344,\n",
       " 355,\n",
       " 385,\n",
       " 389,\n",
       " 392,\n",
       " 396,\n",
       " 402,\n",
       " 415,\n",
       " 426,\n",
       " 429,\n",
       " 434,\n",
       " 438,\n",
       " 451,\n",
       " 455,\n",
       " 456,\n",
       " 457,\n",
       " 459,\n",
       " 472,\n",
       " 476,\n",
       " 482,\n",
       " 484,\n",
       " 487,\n",
       " 501,\n",
       " 502,\n",
       " 510,\n",
       " 525,\n",
       " 528,\n",
       " 532,\n",
       " 533,\n",
       " 544,\n",
       " 556,\n",
       " 557,\n",
       " 563,\n",
       " 573,\n",
       " 574,\n",
       " 588,\n",
       " 591,\n",
       " 592,\n",
       " 595,\n",
       " 602,\n",
       " 605,\n",
       " 606,\n",
       " 621,\n",
       " 623,\n",
       " 632,\n",
       " 634,\n",
       " 638,\n",
       " 642,\n",
       " 645,\n",
       " 646,\n",
       " 652,\n",
       " 674,\n",
       " 678,\n",
       " 679,\n",
       " 693,\n",
       " 695,\n",
       " 700,\n",
       " 708,\n",
       " 710,\n",
       " 712,\n",
       " 713,\n",
       " 714,\n",
       " 723,\n",
       " 725,\n",
       " 743,\n",
       " 753,\n",
       " 754,\n",
       " 759,\n",
       " 764,\n",
       " 774,\n",
       " 784,\n",
       " 785,\n",
       " 788,\n",
       " 809,\n",
       " 830,\n",
       " 832,\n",
       " 833,\n",
       " 834,\n",
       " 839,\n",
       " 840,\n",
       " 842,\n",
       " 846,\n",
       " 853,\n",
       " 863,\n",
       " 872,\n",
       " 873,\n",
       " 878,\n",
       " 883,\n",
       " 891,\n",
       " 896,\n",
       " 901,\n",
       " 911,\n",
       " 916,\n",
       " 923,\n",
       " 927,\n",
       " 934,\n",
       " 940,\n",
       " 963,\n",
       " 965,\n",
       " 968,\n",
       " 972,\n",
       " 978,\n",
       " 987,\n",
       " 991,\n",
       " 993,\n",
       " 1000,\n",
       " 1011,\n",
       " 1031,\n",
       " 1032,\n",
       " 1045,\n",
       " 1046,\n",
       " 1059,\n",
       " 1071,\n",
       " 1074,\n",
       " 1075,\n",
       " 1079,\n",
       " 1080]"
      ]
     },
     "execution_count": 148,
     "metadata": {},
     "output_type": "execute_result"
    }
   ],
   "source": [
    "diff_data"
   ]
  },
  {
   "cell_type": "code",
   "execution_count": 178,
   "metadata": {},
   "outputs": [
    {
     "name": "stdout",
     "output_type": "stream",
     "text": [
      "Predict label: 5\n",
      "True label: 0\n"
     ]
    }
   ],
   "source": [
    "# 予測が失敗した場合のモデルの解釈\n",
    "news_id = 58\n",
    "grad_cam = GradCAM(model=model, feature_layer=model.convs1[0])\n",
    "test_input = test_preprocessed['article'][news_id:news_id+1]\n",
    "test_tensor = torch.LongTensor(test_input).cuda()\n",
    "test_target = torch.LongTensor(np.argmax(test_preprocessed['label'][news_id:news_id+1], axis=1))\n",
    "model_output = grad_cam.forward(test_tensor)\n",
    "predicted_label = model_output.argmax().item()\n",
    "print('Predict label: {}'.format(predicted_label))\n",
    "print('True label: {}'.format(test_target.item()))"
   ]
  },
  {
   "cell_type": "code",
   "execution_count": 179,
   "metadata": {},
   "outputs": [],
   "source": [
    "grad_cam.backward_on_target(model_output, predicted_label)"
   ]
  },
  {
   "cell_type": "code",
   "execution_count": 180,
   "metadata": {},
   "outputs": [],
   "source": [
    "import numpy as np\n",
    "feature_grad = grad_cam.feature_grad.cpu().data.numpy()[0]\n",
    "weights = np.mean(feature_grad, axis=(1, 2))\n",
    "feature_map = grad_cam.feature_map.cpu().data.numpy()\n",
    "grad_cam.clear_hook()"
   ]
  },
  {
   "cell_type": "code",
   "execution_count": 181,
   "metadata": {},
   "outputs": [],
   "source": [
    "cam = np.sum((weights * feature_map.T), axis=2).T\n",
    "cam = np.maximum(cam, 0)"
   ]
  },
  {
   "cell_type": "code",
   "execution_count": 182,
   "metadata": {
    "scrolled": false
   },
   "outputs": [
    {
     "data": {
      "text/plain": [
       "<matplotlib.axes._subplots.AxesSubplot at 0x1e69bdcf438>"
      ]
     },
     "execution_count": 182,
     "metadata": {},
     "output_type": "execute_result"
    },
    {
     "data": {
      "image/png": "[encoded data removed]",
      "text/plain": [
       "<Figure size 432x288 with 2 Axes>"
      ]
     },
     "metadata": {
      "needs_background": "light"
     },
     "output_type": "display_data"
    }
   ],
   "source": [
    "import seaborn as sns\n",
    "sns.heatmap(cam)"
   ]
  },
  {
   "cell_type": "code",
   "execution_count": 184,
   "metadata": {},
   "outputs": [],
   "source": [
    "inv = dp.process('article').preprocessor.vocabulary.inverse(test_preprocessed['article'][news_id])\n",
    "trigrams = [''.join(inv[i:i+3]) for i in range(len(inv))]\n",
    "\n",
    "l = np.array([e[0]for e in cam])\n",
    "\n",
    "K = 20\n",
    "raw_topk_indices = np.argpartition(-l, K)[:K]\n",
    "topk_values = l[raw_topk_indices]\n",
    "indices = np.argsort(-topk_values)\n",
    "\n",
    "topk_indices = raw_topk_indices[indices]"
   ]
  },
  {
   "cell_type": "code",
   "execution_count": 185,
   "metadata": {},
   "outputs": [
    {
     "name": "stdout",
     "output_type": "stream",
     "text": [
      "「独通信\n",
      "は独、\n",
      "未婚女性のみ\n",
      "未婚女性の\n",
      "シングル女性の\n",
      "独身女性が\n",
      "の恋や\n",
      "の恋や\n",
      "と恋に\n",
      "女性の恋\n",
      "独、負け犬\n",
      "恋に落ちる\n",
      "の独身女性\n",
      "恋、日常\n",
      "独通信の\n",
      "「おひとり\n",
      "「おひとり\n",
      "「おひとり\n",
      "「おひとり\n",
      "「おひとり\n"
     ]
    }
   ],
   "source": [
    "for idx in topk_indices:\n",
    "    print(trigrams[idx])"
   ]
  },
  {
   "cell_type": "code",
   "execution_count": 190,
   "metadata": {},
   "outputs": [],
   "source": [
    "josei_labels = train_df[train_df['article'].str.contains('女性')]['label']"
   ]
  },
  {
   "cell_type": "code",
   "execution_count": 195,
   "metadata": {},
   "outputs": [
    {
     "name": "stdout",
     "output_type": "stream",
     "text": [
      "(0, 423)\n",
      "(5, 287)\n",
      "(4, 162)\n",
      "(8, 102)\n",
      "(3, 66)\n",
      "(7, 51)\n",
      "(2, 50)\n",
      "(6, 16)\n",
      "(1, 13)\n"
     ]
    }
   ],
   "source": [
    "from collections import Counter\n",
    "\n",
    "cnt = Counter(josei_labels)\n",
    "for t in cnt.most_common():\n",
    "    print(t)"
   ]
  },
  {
   "cell_type": "code",
   "execution_count": null,
   "metadata": {},
   "outputs": [],
   "source": []
  }
 ],
 "metadata": {
  "kernelspec": {
   "display_name": "Python 3",
   "language": "python",
   "name": "python3"
  },
  "language_info": {
   "codemirror_mode": {
    "name": "ipython",
    "version": 3
   },
   "file_extension": ".py",
   "mimetype": "text/x-python",
   "name": "python",
   "nbconvert_exporter": "python",
   "pygments_lexer": "ipython3",
   "version": "3.6.7"
  }
 },
 "nbformat": 4,
 "nbformat_minor": 2
}
